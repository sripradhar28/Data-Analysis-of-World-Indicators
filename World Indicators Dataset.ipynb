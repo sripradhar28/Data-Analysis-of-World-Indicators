{
 "cells": [
  {
   "cell_type": "code",
   "execution_count": 1,
   "metadata": {
    "collapsed": true
   },
   "outputs": [],
   "source": [
    "import pylab\n",
    "import calendar\n",
    "import numpy as np\n",
    "import pandas as pd\n",
    "import seaborn as sn\n",
    "from scipy import stats\n",
    "from datetime import datetime\n",
    "import matplotlib.pyplot as plt\n",
    "%matplotlib inline"
   ]
  },
  {
   "cell_type": "code",
   "execution_count": 2,
   "metadata": {
    "collapsed": false
   },
   "outputs": [],
   "source": [
    "data=pd.read_csv(\"/Users/sripradharavi/Documents/world indicators.csv\", thousands=',')"
   ]
  },
  {
   "cell_type": "markdown",
   "metadata": {},
   "source": [
    "Dropping NaN Columns"
   ]
  },
  {
   "cell_type": "code",
   "execution_count": 3,
   "metadata": {
    "collapsed": false,
    "scrolled": true
   },
   "outputs": [],
   "source": [
    "data=data.drop(['Business Tax Rate','Hours to do Tax', 'Days to Start Business', 'Ease of Business', 'Number of Records'], 1)\n"
   ]
  },
  {
   "cell_type": "code",
   "execution_count": 4,
   "metadata": {
    "collapsed": false
   },
   "outputs": [],
   "source": [
    "data=data.fillna(0)\n",
    "Date=pd.to_datetime(data['Year'])\n",
    "data['year']=Date.dt.year"
   ]
  },
  {
   "cell_type": "code",
   "execution_count": 5,
   "metadata": {
    "collapsed": false
   },
   "outputs": [
    {
     "data": {
      "text/html": [
       "<div>\n",
       "<table border=\"1\" class=\"dataframe\">\n",
       "  <thead>\n",
       "    <tr style=\"text-align: right;\">\n",
       "      <th></th>\n",
       "      <th>Country</th>\n",
       "      <th>Region</th>\n",
       "      <th>Year</th>\n",
       "      <th>Birth Rate</th>\n",
       "      <th>CO2 Emissions</th>\n",
       "      <th>Energy Usage</th>\n",
       "      <th>GDP</th>\n",
       "      <th>Health Exp % GDP</th>\n",
       "      <th>Health Exp/Capita</th>\n",
       "      <th>Infant Mortality Rate</th>\n",
       "      <th>...</th>\n",
       "      <th>Life Expectancy Male</th>\n",
       "      <th>Mobile Phone Usage</th>\n",
       "      <th>Population 0-14</th>\n",
       "      <th>Population 15-64</th>\n",
       "      <th>Population 65+</th>\n",
       "      <th>Population Total</th>\n",
       "      <th>Population Urban</th>\n",
       "      <th>Tourism Inbound</th>\n",
       "      <th>Tourism Outbound</th>\n",
       "      <th>year</th>\n",
       "    </tr>\n",
       "  </thead>\n",
       "  <tbody>\n",
       "    <tr>\n",
       "      <th>0</th>\n",
       "      <td>Algeria</td>\n",
       "      <td>Africa</td>\n",
       "      <td>01/12/00</td>\n",
       "      <td>0.020</td>\n",
       "      <td>87931.0</td>\n",
       "      <td>26998.0</td>\n",
       "      <td>5.479006e+10</td>\n",
       "      <td>0.035</td>\n",
       "      <td>60.0</td>\n",
       "      <td>0.034</td>\n",
       "      <td>...</td>\n",
       "      <td>67.0</td>\n",
       "      <td>0.003</td>\n",
       "      <td>0.342</td>\n",
       "      <td>0.619</td>\n",
       "      <td>0.039</td>\n",
       "      <td>31719449</td>\n",
       "      <td>0.599</td>\n",
       "      <td>102000000.0</td>\n",
       "      <td>193000000.0</td>\n",
       "      <td>2000</td>\n",
       "    </tr>\n",
       "    <tr>\n",
       "      <th>1</th>\n",
       "      <td>Angola</td>\n",
       "      <td>Africa</td>\n",
       "      <td>01/12/00</td>\n",
       "      <td>0.050</td>\n",
       "      <td>9542.0</td>\n",
       "      <td>7499.0</td>\n",
       "      <td>9.129595e+09</td>\n",
       "      <td>0.034</td>\n",
       "      <td>22.0</td>\n",
       "      <td>0.128</td>\n",
       "      <td>...</td>\n",
       "      <td>44.0</td>\n",
       "      <td>0.002</td>\n",
       "      <td>0.476</td>\n",
       "      <td>0.499</td>\n",
       "      <td>0.025</td>\n",
       "      <td>13924930</td>\n",
       "      <td>0.324</td>\n",
       "      <td>34000000.0</td>\n",
       "      <td>146000000.0</td>\n",
       "      <td>2000</td>\n",
       "    </tr>\n",
       "    <tr>\n",
       "      <th>2</th>\n",
       "      <td>Benin</td>\n",
       "      <td>Africa</td>\n",
       "      <td>01/12/00</td>\n",
       "      <td>0.043</td>\n",
       "      <td>1617.0</td>\n",
       "      <td>1983.0</td>\n",
       "      <td>2.359122e+09</td>\n",
       "      <td>0.043</td>\n",
       "      <td>15.0</td>\n",
       "      <td>0.090</td>\n",
       "      <td>...</td>\n",
       "      <td>53.0</td>\n",
       "      <td>0.008</td>\n",
       "      <td>0.454</td>\n",
       "      <td>0.517</td>\n",
       "      <td>0.029</td>\n",
       "      <td>6949366</td>\n",
       "      <td>0.383</td>\n",
       "      <td>77000000.0</td>\n",
       "      <td>50000000.0</td>\n",
       "      <td>2000</td>\n",
       "    </tr>\n",
       "    <tr>\n",
       "      <th>3</th>\n",
       "      <td>Botswana</td>\n",
       "      <td>Africa</td>\n",
       "      <td>01/12/00</td>\n",
       "      <td>0.027</td>\n",
       "      <td>4276.0</td>\n",
       "      <td>1836.0</td>\n",
       "      <td>5.788312e+09</td>\n",
       "      <td>0.047</td>\n",
       "      <td>152.0</td>\n",
       "      <td>0.054</td>\n",
       "      <td>...</td>\n",
       "      <td>49.0</td>\n",
       "      <td>0.127</td>\n",
       "      <td>0.383</td>\n",
       "      <td>0.587</td>\n",
       "      <td>0.029</td>\n",
       "      <td>1755375</td>\n",
       "      <td>0.532</td>\n",
       "      <td>227000000.0</td>\n",
       "      <td>209000000.0</td>\n",
       "      <td>2000</td>\n",
       "    </tr>\n",
       "    <tr>\n",
       "      <th>4</th>\n",
       "      <td>Burkina Faso</td>\n",
       "      <td>Africa</td>\n",
       "      <td>01/12/00</td>\n",
       "      <td>0.046</td>\n",
       "      <td>1041.0</td>\n",
       "      <td>0.0</td>\n",
       "      <td>2.610959e+09</td>\n",
       "      <td>0.051</td>\n",
       "      <td>12.0</td>\n",
       "      <td>0.096</td>\n",
       "      <td>...</td>\n",
       "      <td>49.0</td>\n",
       "      <td>0.002</td>\n",
       "      <td>0.468</td>\n",
       "      <td>0.505</td>\n",
       "      <td>0.028</td>\n",
       "      <td>11607944</td>\n",
       "      <td>0.178</td>\n",
       "      <td>23000000.0</td>\n",
       "      <td>30000000.0</td>\n",
       "      <td>2000</td>\n",
       "    </tr>\n",
       "  </tbody>\n",
       "</table>\n",
       "<p>5 rows × 23 columns</p>\n",
       "</div>"
      ],
      "text/plain": [
       "        Country  Region      Year  Birth Rate  CO2 Emissions  Energy Usage  \\\n",
       "0       Algeria  Africa  01/12/00       0.020        87931.0       26998.0   \n",
       "1        Angola  Africa  01/12/00       0.050         9542.0        7499.0   \n",
       "2         Benin  Africa  01/12/00       0.043         1617.0        1983.0   \n",
       "3      Botswana  Africa  01/12/00       0.027         4276.0        1836.0   \n",
       "4  Burkina Faso  Africa  01/12/00       0.046         1041.0           0.0   \n",
       "\n",
       "            GDP  Health Exp % GDP  Health Exp/Capita  Infant Mortality Rate  \\\n",
       "0  5.479006e+10             0.035               60.0                  0.034   \n",
       "1  9.129595e+09             0.034               22.0                  0.128   \n",
       "2  2.359122e+09             0.043               15.0                  0.090   \n",
       "3  5.788312e+09             0.047              152.0                  0.054   \n",
       "4  2.610959e+09             0.051               12.0                  0.096   \n",
       "\n",
       "   ...   Life Expectancy Male  Mobile Phone Usage  Population 0-14  \\\n",
       "0  ...                   67.0               0.003            0.342   \n",
       "1  ...                   44.0               0.002            0.476   \n",
       "2  ...                   53.0               0.008            0.454   \n",
       "3  ...                   49.0               0.127            0.383   \n",
       "4  ...                   49.0               0.002            0.468   \n",
       "\n",
       "   Population 15-64  Population 65+  Population Total  Population Urban  \\\n",
       "0             0.619           0.039          31719449             0.599   \n",
       "1             0.499           0.025          13924930             0.324   \n",
       "2             0.517           0.029           6949366             0.383   \n",
       "3             0.587           0.029           1755375             0.532   \n",
       "4             0.505           0.028          11607944             0.178   \n",
       "\n",
       "   Tourism Inbound  Tourism Outbound  year  \n",
       "0      102000000.0       193000000.0  2000  \n",
       "1       34000000.0       146000000.0  2000  \n",
       "2       77000000.0        50000000.0  2000  \n",
       "3      227000000.0       209000000.0  2000  \n",
       "4       23000000.0        30000000.0  2000  \n",
       "\n",
       "[5 rows x 23 columns]"
      ]
     },
     "execution_count": 5,
     "metadata": {},
     "output_type": "execute_result"
    }
   ],
   "source": [
    "data.head()"
   ]
  },
  {
   "cell_type": "code",
   "execution_count": 6,
   "metadata": {
    "collapsed": false
   },
   "outputs": [
    {
     "data": {
      "text/plain": [
       "<matplotlib.axes._subplots.AxesSubplot at 0x10c3692e8>"
      ]
     },
     "execution_count": 6,
     "metadata": {},
     "output_type": "execute_result"
    },
    {
     "data": {
      "image/png": "[encoded data removed]",
      "text/plain": [
       "<matplotlib.figure.Figure at 0x10c33dd30>"
      ]
     },
     "metadata": {},
     "output_type": "display_data"
    }
   ],
   "source": [
    "data.plot(kind='hist', x='Mobile Phone Usage', y='Life Expectancy Female', colormap='spring')"
   ]
  },
  {
   "cell_type": "code",
   "execution_count": 7,
   "metadata": {
    "collapsed": false
   },
   "outputs": [
    {
     "data": {
      "text/plain": [
       "Index(['Country', 'Region', 'Year', 'Birth Rate', 'CO2 Emissions',\n",
       "       'Energy Usage', 'GDP', 'Health Exp % GDP', 'Health Exp/Capita',\n",
       "       'Infant Mortality Rate', 'Internet Usage', 'Lending Interest',\n",
       "       'Life Expectancy Female', 'Life Expectancy Male', 'Mobile Phone Usage',\n",
       "       'Population 0-14', 'Population 15-64', 'Population 65+',\n",
       "       'Population Total', 'Population Urban', 'Tourism Inbound',\n",
       "       'Tourism Outbound', 'year'],\n",
       "      dtype='object')"
      ]
     },
     "execution_count": 7,
     "metadata": {},
     "output_type": "execute_result"
    }
   ],
   "source": [
    "data.columns"
   ]
  },
  {
   "cell_type": "markdown",
   "metadata": {},
   "source": [
    "Which countries spend more than 14% of their GDP on Healthcare? "
   ]
  },
  {
   "cell_type": "code",
   "execution_count": 8,
   "metadata": {
    "collapsed": false
   },
   "outputs": [
    {
     "data": {
      "text/plain": [
       "<matplotlib.axes._subplots.AxesSubplot at 0x10c9acc18>"
      ]
     },
     "execution_count": 8,
     "metadata": {},
     "output_type": "execute_result"
    },
    {
     "data": {
      "image/png": "[encoded data removed]",
      "text/plain": [
       "<matplotlib.figure.Figure at 0x10c33dcc0>"
      ]
     },
     "metadata": {},
     "output_type": "display_data"
    }
   ],
   "source": [
    "greater_than_14=data[data['Health Exp % GDP']>0.14]\n",
    "sn.barplot(data=greater_than_14, y='Health Exp % GDP', x='Country')"
   ]
  },
  {
   "cell_type": "code",
   "execution_count": 9,
   "metadata": {
    "collapsed": false,
    "scrolled": false
   },
   "outputs": [
    {
     "data": {
      "text/plain": [
       "[<matplotlib.text.Text at 0x10f24fba8>, <matplotlib.text.Text at 0x10f243358>]"
      ]
     },
     "execution_count": 9,
     "metadata": {},
     "output_type": "execute_result"
    },
    {
     "data": {
      "image/png": "[encoded data removed]",
      "text/plain": [
       "<matplotlib.figure.Figure at 0x10ca154a8>"
      ]
     },
     "metadata": {},
     "output_type": "display_data"
    }
   ],
   "source": [
    "fig, (ax1,ax2)=plt.subplots(nrows=2)\n",
    "fig.set_size_inches(9,10)\n",
    "internetAgg=pd.DataFrame(data.groupby(\"year\")[\"Internet Usage\"].mean()).reset_index()\n",
    "internetSorted=internetAgg.sort_values(by=\"year\", ascending=False)\n",
    "a=sn.barplot(data=internetSorted,x=\"year\",y=\"Internet Usage\", ax=ax1)\n",
    "ax1.set(xlabel=\"Year\", ylabel=\"Internet Usage\")\n",
    "\n",
    "fig.set_size_inches(9,10)\n",
    "phoneAgg=pd.DataFrame(data.groupby(\"year\")[\"Mobile Phone Usage\"].mean()).reset_index()\n",
    "phoneSorted=phoneAgg.sort_values(by=\"year\", ascending=False)\n",
    "b=sn.barplot(data=phoneSorted,x=\"year\",y=\"Mobile Phone Usage\", ax=ax2)\n",
    "ax2.set(xlabel=\"Year\", ylabel=\"Mobile Phone Usage\")"
   ]
  },
  {
   "cell_type": "markdown",
   "metadata": {},
   "source": [
    "MULTIPLE LINEAR REGRESSION"
   ]
  },
  {
   "cell_type": "code",
   "execution_count": 10,
   "metadata": {
    "collapsed": false
   },
   "outputs": [
    {
     "data": {
      "text/plain": [
       "LinearRegression(copy_X=True, fit_intercept=True, n_jobs=1, normalize=False)"
      ]
     },
     "execution_count": 10,
     "metadata": {},
     "output_type": "execute_result"
    }
   ],
   "source": [
    "import statsmodels.api as sm\n",
    "import statsmodels.formula.api as smf\n",
    "from sklearn import linear_model\n",
    "from sklearn.metrics import mean_squared_error\n",
    "train=data[:2000]\n",
    "test=data[2000:]\n",
    "x=train[['Birth Rate','CO2 Emissions','Energy Usage', 'GDP', 'Health Exp % GDP', 'Health Exp/Capita', 'Infant Mortality Rate']]\n",
    "y=train['Population Total']\n",
    "xtest=test[['Birth Rate','CO2 Emissions','Energy Usage', 'GDP', 'Health Exp % GDP', 'Health Exp/Capita', 'Infant Mortality Rate']]\n",
    "ytest=test['Population Total']\n",
    "linReg=linear_model.LinearRegression()\n",
    "linReg.fit(x,y)"
   ]
  },
  {
   "cell_type": "code",
   "execution_count": 11,
   "metadata": {
    "collapsed": false
   },
   "outputs": [
    {
     "data": {
      "text/plain": [
       "array([  5.87643769e+06,  -5.06704885e+07,   1.93651377e+06,\n",
       "        -1.10699754e+07,   2.09072583e+07,   8.54755594e+07,\n",
       "        -7.72898970e+07,   9.93443071e+06,   1.43992310e+08,\n",
       "         2.03302837e+07,  -4.09254207e+06,  -2.60328210e+06,\n",
       "         2.19172697e+07,   4.93205683e+06,   1.41218798e+07,\n",
       "         2.50630491e+07,   1.05519621e+08,   2.04254149e+07,\n",
       "         3.26980690e+07,   1.48601884e+07,   1.51608623e+07,\n",
       "         1.39545400e+07,   5.71132994e+06,   4.83294104e+06,\n",
       "         4.18452628e+06,   8.24192226e+06,   7.04830610e+06,\n",
       "        -1.73188954e+06,   5.53014846e+06,   6.24347142e+06,\n",
       "         1.53676531e+07,  -1.89596867e+06,  -2.42352471e+06,\n",
       "        -2.27596227e+06,   5.67433676e+05,   4.95365296e+06,\n",
       "         2.08435474e+07,   8.26846553e+06,   6.41042286e+06,\n",
       "         6.07021302e+06,   1.21091145e+05,   7.19891535e+06,\n",
       "         1.15807694e+07,   1.11078534e+07,   6.40172267e+07,\n",
       "         5.43008590e+06,   7.50132111e+06,   9.75357469e+05,\n",
       "        -1.77180997e+06,  -3.19940268e+04,   7.23350852e+06,\n",
       "         1.45155682e+07,   8.36836042e+06,   6.83414612e+06,\n",
       "         2.07588902e+06,   5.28356793e+06,   2.10096776e+06,\n",
       "         2.68679505e+06,   9.11486309e+06,   2.04182027e+07,\n",
       "        -1.36205816e+06,   7.74134001e+06,   4.97460474e+07,\n",
       "         2.23014172e+06,   8.18096798e+05,   1.55172406e+06,\n",
       "         4.23189898e+06,  -3.19572999e+06,   1.51608623e+07,\n",
       "         1.49671411e+07,   1.72782968e+06,   4.79432273e+06,\n",
       "         7.87307228e+06,   7.47459320e+06,   2.59466148e+07,\n",
       "         1.51679844e+07,   1.95746636e+08,   1.40022311e+06,\n",
       "         2.51865096e+07,   7.84330497e+06,   2.28937479e+07,\n",
       "         3.93565776e+07,   1.87927041e+07,   1.40734139e+07,\n",
       "         1.19538602e+07,   4.78393531e+06,   1.94773683e+07,\n",
       "         3.92945326e+07,   2.63876544e+07,   1.90243729e+07,\n",
       "         3.91169449e+07,   9.02062516e+06,   2.58825012e+07,\n",
       "         1.61573358e+07,   4.20138015e+07,   2.62246402e+07,\n",
       "         7.03520567e+06,   3.36999190e+07,   1.25354315e+07,\n",
       "         7.86658174e+06,   1.95295016e+07,   1.77500983e+07,\n",
       "         2.32307721e+07,   2.34659708e+07,   2.05219845e+07,\n",
       "         2.86878806e+06,   1.53958792e+07,   8.19232931e+06,\n",
       "         3.37786439e+06,   1.61125846e+07,   1.96961977e+07,\n",
       "         7.07585292e+06,   1.18139569e+07,   2.39850675e+07,\n",
       "         7.09001612e+06,   6.75590107e+06,   6.84975826e+07,\n",
       "        -2.10497830e+06,   2.82663923e+06,   9.18752722e+06,\n",
       "         6.80660563e+06,   2.57468798e+07,   3.62586151e+07,\n",
       "         9.21026827e+07,   2.31972527e+07,   1.73511365e+07,\n",
       "         1.57796770e+07,   1.23830046e+07,   1.36119021e+07,\n",
       "         5.37999167e+06,  -2.16952916e+06,   1.62324794e+07,\n",
       "         3.11202548e+07,   1.50656934e+07,   9.23776953e+06,\n",
       "         1.90024552e+07,   3.00207651e+07,   1.33843555e+07,\n",
       "         9.69992678e+06,   1.18367878e+07,   1.55007100e+09,\n",
       "         1.23967604e+06,  -7.15025773e+06,   4.46485402e+08,\n",
       "         1.06123094e+08,  -1.96068466e+08,   5.47406037e+07,\n",
       "         3.61438073e+07,   9.09894938e+07,   4.12635822e+06,\n",
       "         2.30467657e+07,   6.47022416e+06,   3.78837170e+07,\n",
       "        -9.85941674e+04,   9.06908310e+06,   3.40929203e+07,\n",
       "         1.62363317e+07,   7.97722274e+07,   1.70557109e+07,\n",
       "         1.13538792e+07,   6.03445042e+06,   9.88553855e+06,\n",
       "         7.30592708e+07,   1.08447683e+07,   4.10014009e+07,\n",
       "         4.56472782e+07,   4.26068889e+07,   7.64532226e+06,\n",
       "         1.18556742e+07,   1.61597304e+06,   2.06971300e+07,\n",
       "         9.24122749e+06,   4.39134706e+06,   1.48243581e+07,\n",
       "         4.75788165e+06,   6.25500273e+06,   1.94354885e+07,\n",
       "         4.13122827e+05,   6.87719596e+06,   1.51923144e+07,\n",
       "         1.58349161e+07,  -7.39832927e+07,  -8.76200814e+07,\n",
       "        -2.21398283e+06,   1.15147515e+07,   1.13644759e+07,\n",
       "        -5.17310204e+05,   1.51608623e+07,  -8.13092436e+07,\n",
       "         4.75650234e+06,   8.02914468e+06,   9.67269431e+06,\n",
       "         5.19748580e+06,   2.80679207e+07,   5.22765755e+06,\n",
       "         6.92905901e+06,   5.40550206e+05,   3.69119460e+07,\n",
       "         2.50184755e+06,  -3.03553845e+06,   8.96042389e+06,\n",
       "         3.90979767e+07,  -2.38076328e+06,   1.79117312e+07,\n",
       "         4.25425210e+08,   1.61406876e+07,   8.57532737e+06,\n",
       "         9.29300005e+06,   5.86460861e+06,  -4.35779538e+07,\n",
       "         2.16453893e+06,  -1.43538076e+07,   1.37255593e+07,\n",
       "         9.80015491e+07,  -8.27069257e+07,   1.07045549e+07,\n",
       "         1.34449889e+08,   2.31695639e+07,  -4.79880258e+06,\n",
       "        -1.69902005e+06,   2.18177830e+07,   4.75250170e+06,\n",
       "         1.78619508e+07,   2.52090262e+07,   1.08338491e+08,\n",
       "         2.03804047e+07,   3.10472703e+07,   1.47150187e+07,\n",
       "         3.57472983e+06,  -6.83946374e+06,   5.74372455e+06,\n",
       "         4.83342764e+06,   4.18452628e+06,   8.88481934e+06,\n",
       "         9.27656648e+06,  -2.18440660e+06,   4.96772911e+06,\n",
       "         5.47977488e+06,   1.54704375e+07,  -2.78722279e+06,\n",
       "        -2.31112572e+06,  -1.85947793e+06,   1.11219660e+05,\n",
       "         3.71841721e+06,   1.46971785e+07,   8.27314810e+06,\n",
       "         5.87896828e+06,   7.84765206e+06,   7.50042219e+05,\n",
       "         7.20649868e+06,   1.27901322e+07,  -2.74241263e+07,\n",
       "         3.84466494e+07,   6.04001505e+06,   4.78413672e+06,\n",
       "        -3.29807873e+06,  -1.94282942e+06,   6.92180387e+05,\n",
       "         6.62371207e+06,   5.32551627e+06,   7.99944440e+06,\n",
       "         5.66352051e+06,   1.97742348e+06,   6.04196145e+06,\n",
       "         2.30104335e+06,   3.37568625e+06,   8.39043089e+06,\n",
       "         2.63772342e+07,  -1.29318181e+06,   7.97961407e+06,\n",
       "         3.40478528e+07,   1.86784303e+06,   1.15701165e+06,\n",
       "         4.92089406e+05,   3.23874931e+06,  -2.81449280e+06,\n",
       "         1.51608623e+07,   1.45905100e+07,   2.73242616e+06,\n",
       "         4.79432273e+06,   8.37475554e+06,   8.08900157e+06,\n",
       "         2.77095171e+07,   1.51679844e+07,   1.78489175e+08,\n",
       "         1.54703391e+06,   2.44417830e+07,   8.45310141e+06,\n",
       "         1.38024303e+07,   3.43230189e+07,   1.78826518e+07,\n",
       "         1.37770200e+07,   1.28565912e+07,   3.43855813e+06,\n",
       "         1.81377015e+07,   3.77627689e+07,   2.69923910e+07,\n",
       "         1.83348086e+07,   3.95028341e+07,   7.64710852e+06,\n",
       "         2.57047459e+07,   1.58061499e+07,   3.33930656e+07,\n",
       "         2.56096911e+07,   7.22696390e+06,   3.38021387e+07,\n",
       "         1.25459718e+07,   7.33883154e+06,   1.82376320e+07,\n",
       "         1.69596400e+07,   2.35113377e+07,   2.26502264e+07,\n",
       "         1.72439563e+07,  -1.90657370e+06,   9.60995811e+06,\n",
       "         7.57627398e+06,   2.20852560e+06,   1.51170548e+07,\n",
       "         1.91495852e+07,   8.18223226e+06,   8.42967100e+06,\n",
       "         2.13215623e+07,   5.52115756e+06,   5.76928656e+06,\n",
       "         6.08368262e+07,  -3.38811269e+06,   1.65482682e+06,\n",
       "         8.60104001e+06,   5.77849678e+06,   2.33703665e+07,\n",
       "         3.52314349e+07,   6.69856252e+07,   2.17927939e+07,\n",
       "         1.63505723e+07,   1.33944236e+07,   1.18004870e+07,\n",
       "         1.17994511e+07,   3.03309883e+06,  -2.82554757e+06,\n",
       "         1.34803475e+07,   3.02612495e+07,   1.50646244e+07,\n",
       "         9.91399784e+06,   1.52566820e+07,   2.54722810e+07,\n",
       "         1.40656173e+07,   1.09141697e+07,   1.15129117e+07,\n",
       "         1.17920761e+09,   1.69589783e+06,  -1.08636435e+07,\n",
       "         3.56145134e+08,   6.91343928e+07,  -3.20310102e+08,\n",
       "         4.22132658e+07,   3.26543639e+07,   6.12443160e+07,\n",
       "         3.70058357e+06,   2.15640354e+07,   4.86712539e+06,\n",
       "         2.63872498e+07,  -3.50259087e+06,   8.53390253e+06,\n",
       "         3.29065714e+07,   1.56992323e+07,   6.89788351e+07,\n",
       "         1.03573377e+07,   6.14351330e+06,   4.99496463e+06,\n",
       "         8.99588306e+06,   5.73766101e+07,   1.13262821e+07,\n",
       "         3.89237167e+07,   4.31699849e+07,   3.51027929e+07,\n",
       "         6.32734508e+06,   1.83372502e+07,  -5.08025600e+06,\n",
       "         1.86623111e+07,  -2.52858482e+05,   2.85681520e+06,\n",
       "         1.37870521e+07,   4.19829325e+06,   6.13685016e+06,\n",
       "         1.30894302e+07,  -3.58850602e+06,   6.70098283e+06,\n",
       "         7.84330497e+06,   1.02734849e+07,  -1.19395114e+08,\n",
       "        -1.69720301e+08,  -6.19635876e+06,   8.07040777e+06,\n",
       "         1.36608348e+07,  -4.12674912e+06,   1.51608623e+07,\n",
       "        -1.16633783e+08,   5.28797263e+06,   8.09450128e+06,\n",
       "         8.45310141e+06,   5.05336456e+06,   2.89167299e+07,\n",
       "         4.60262438e+06,   6.10427268e+06,   2.16800344e+05,\n",
       "         4.00338694e+07,   2.54382796e+06,  -2.02080775e+07,\n",
       "         1.28931249e+06,   2.07796485e+07,  -4.63578807e+06,\n",
       "         1.41381876e+07,   3.26920113e+08,   1.74492990e+07,\n",
       "         6.67604345e+06,   7.86613414e+06,   5.37164970e+06,\n",
       "        -6.43157736e+07,  -7.58288578e+06,  -2.27613960e+07,\n",
       "         1.96352448e+06,   7.79887681e+07,  -1.32765666e+08,\n",
       "         9.61473161e+06,   9.91636542e+07,   1.44942647e+07,\n",
       "        -9.92112739e+06,  -3.16382016e+06,   1.42685620e+07,\n",
       "         3.39750436e+06,   1.63388366e+07,   2.15964475e+07,\n",
       "         6.89268648e+07,   1.64399712e+07,   1.88892148e+07,\n",
       "         1.23664412e+07,   1.51608623e+07,  -4.74144512e+07,\n",
       "         6.89634651e+06,   4.79432273e+06,   4.18452628e+06,\n",
       "         9.06558080e+06,   9.37812003e+06,  -2.45843191e+06,\n",
       "         5.40411918e+06,   4.06758380e+06,   1.44194793e+07,\n",
       "        -2.91026074e+06,  -2.56133730e+06,  -2.47406419e+06,\n",
       "         8.97154358e+05,   3.35779419e+06,  -1.78846457e+06,\n",
       "         8.15710311e+06,   6.21322016e+06,   6.84856588e+06,\n",
       "         2.16610649e+05,   7.20757586e+06,   1.16758479e+07,\n",
       "        -8.03342510e+07,   5.42979516e+05,   6.01391562e+06,\n",
       "        -2.64203547e+05,  -1.18784380e+07,  -3.03253303e+06,\n",
       "        -7.63140844e+05,   7.23350852e+06,   1.32535450e+07,\n",
       "         6.42765244e+06,   4.21730545e+06,   1.79534721e+06,\n",
       "         6.62371207e+06,   1.21652578e+06,   2.47071460e+06,\n",
       "         8.72742469e+06,   1.67308891e+07,  -1.12829179e+06,\n",
       "         7.42718690e+06,   7.28358834e+06,   1.17204570e+06,\n",
       "         1.04235720e+06,  -7.14827162e+05,  -2.97654329e+05,\n",
       "        -3.04016269e+06,   1.51608623e+07,   1.38170123e+07,\n",
       "         2.46054198e+06,   4.79432273e+06,   7.63622424e+06,\n",
       "         7.71163126e+06,   2.47051622e+07,   1.51608623e+07,\n",
       "        -1.44763868e+08,   7.53360455e+05,   2.07261045e+07,\n",
       "         8.45310141e+06,  -1.91523934e+07,   2.20442688e+07,\n",
       "         1.40783339e+07,   1.09942962e+07,   1.27264246e+07,\n",
       "         3.78153105e+06,   1.25050367e+07,   3.75222187e+07,\n",
       "         2.65182611e+07,   1.60053159e+07,   2.14026214e+07,\n",
       "         4.51576820e+06,   1.59213702e+07,   1.46843780e+07,\n",
       "        -2.69840456e+07,   2.45909977e+07,   6.88152023e+06,\n",
       "         6.86199194e+06,   1.00149586e+07,   6.39183589e+06,\n",
       "         1.04753421e+07,   1.60701152e+07,   2.31111884e+07,\n",
       "         6.18842341e+06,   1.78792814e+07,  -2.14259457e+06,\n",
       "        -3.94422708e+06,   7.06881459e+06,  -5.15190558e+05,\n",
       "         1.62353025e+07,   1.85278218e+07,   8.28604511e+06,\n",
       "        -5.21824245e+06,   1.22210334e+07,   5.24953488e+06,\n",
       "         4.12283442e+06,  -3.37877055e+07,  -4.00084084e+06,\n",
       "         1.31343873e+06,   5.54322912e+06,   4.58046473e+06,\n",
       "         2.47563704e+07,   3.43408709e+07,  -3.49762626e+07,\n",
       "         2.05810363e+07,   3.32054856e+06,   1.31656359e+07,\n",
       "        -3.87079077e+06,   7.82841349e+06,  -3.91843386e+06,\n",
       "        -3.36734494e+06,   5.66987437e+06,   2.17255191e+07,\n",
       "         1.46924261e+07,   6.82250721e+06,   4.74448837e+06,\n",
       "         1.84759304e+06,   1.28947284e+07,   8.00334016e+06,\n",
       "         6.75363416e+06,  -9.35465117e+08,  -1.17582365e+06,\n",
       "        -2.28454821e+07,  -1.94808766e+08,  -8.84069220e+07,\n",
       "        -3.31011236e+08,  -1.82927878e+07,   1.81264751e+07,\n",
       "         6.02594469e+07,  -1.54342864e+06,   2.09140362e+07,\n",
       "         4.14023235e+06,  -3.13927709e+07,  -4.46063453e+06,\n",
       "         4.92325570e+06,   2.26631006e+07,   7.88721283e+06,\n",
       "         4.53864669e+06,  -2.31808224e+07,  -1.95229060e+07,\n",
       "        -2.42327384e+06,   6.63374924e+06,  -3.18268127e+07,\n",
       "         1.07708134e+07,   1.92515774e+07,   7.02573593e+06,\n",
       "        -1.19827401e+07,   4.72451986e+06,   1.05931258e+07,\n",
       "        -4.01764247e+06,  -3.55192631e+06,   1.18417837e+06,\n",
       "        -2.31365543e+06,  -2.93049115e+05,  -1.76508468e+06,\n",
       "         4.03736924e+06,   1.41034754e+07,  -2.93739373e+06,\n",
       "         7.00670233e+06,   7.23350852e+06,   1.01626062e+07,\n",
       "        -1.01978433e+08,  -1.51141048e+08,  -2.94333091e+06,\n",
       "         7.64750353e+06,   1.33121295e+07,  -3.76480596e+06,\n",
       "         1.51608623e+07,  -1.03464662e+08,   3.44632847e+06,\n",
       "         4.13071608e+06,   9.06289786e+06,   2.58489803e+05,\n",
       "         2.75962027e+07,   1.52061799e+06,   4.64010629e+06,\n",
       "        -2.65790227e+06,   3.87100097e+07,   4.98247280e+05,\n",
       "        -1.43066248e+07,  -1.31735676e+06,   2.00821811e+07,\n",
       "        -3.01222406e+06,  -1.07511601e+07,  -2.25056875e+08,\n",
       "         1.69598533e+07,  -5.16773694e+06,   7.76908461e+06,\n",
       "         4.52266543e+06,  -5.10293406e+07,  -6.90458696e+06,\n",
       "        -2.10989872e+07,   1.52373387e+06,  -1.75102285e+07,\n",
       "        -1.29561315e+08,   2.85986727e+06,  -5.45352552e+07,\n",
       "        -1.84356786e+07,  -1.00630904e+07,  -1.01216783e+07,\n",
       "        -1.17979750e+07,  -2.31736302e+06,  -2.58918096e+06,\n",
       "        -4.44534641e+06,  -7.55302503e+07,   1.83542677e+06,\n",
       "        -3.29291399e+07,   5.58550339e+06,   1.51608623e+07,\n",
       "        -5.58652160e+07,   6.60443038e+06,   4.79432273e+06,\n",
       "         4.79432273e+06,   8.74202726e+06,   9.58097509e+06,\n",
       "        -1.62945998e+06,   5.40411918e+06,   1.67891322e+06,\n",
       "         1.23147138e+07,  -2.61385779e+06,  -2.31752021e+06,\n",
       "        -2.39335765e+06,   1.16092255e+06,   3.70960428e+06,\n",
       "        -6.68784928e+07,   9.06289786e+06,   6.28853068e+06,\n",
       "         8.23876150e+06,   1.85653631e+05,   7.21642158e+06,\n",
       "         4.08121046e+06,  -2.54580986e+08,  -3.40282379e+06,\n",
       "         7.23350852e+06,  -2.42716843e+06,  -3.93514192e+07,\n",
       "        -5.88456448e+06,   9.47257653e+05,   7.23350852e+06,\n",
       "         1.33614977e+07,   7.71108194e+05,  -5.40014014e+06,\n",
       "        -1.80480619e+06,   6.62371207e+06,   1.35226639e+06,\n",
       "        -5.17442528e+06,   8.55817639e+06,   1.69587546e+07,\n",
       "        -4.98703434e+06,   4.26071278e+06,   9.03451073e+06,\n",
       "        -1.36391871e+06,  -1.77844148e+06,  -6.68769921e+06,\n",
       "        -1.83655754e+07,  -3.12366276e+06,   1.51608623e+07,\n",
       "         1.36867751e+07,   1.28112200e+06,   5.40411918e+06,\n",
       "         7.30897277e+06,   7.42104066e+06,   9.32593858e+06,\n",
       "         1.51608623e+07,  -2.67931632e+08,  -2.57267074e+06,\n",
       "        -3.86203799e+07,   8.45310141e+06])"
      ]
     },
     "execution_count": 11,
     "metadata": {},
     "output_type": "execute_result"
    }
   ],
   "source": [
    "ypred=linReg.predict(xtest)\n",
    "ypred"
   ]
  },
  {
   "cell_type": "markdown",
   "metadata": {},
   "source": [
    "What's the performance of this Multiple Linear Regression: "
   ]
  },
  {
   "cell_type": "code",
   "execution_count": 12,
   "metadata": {
    "collapsed": false
   },
   "outputs": [
    {
     "name": "stdout",
     "output_type": "stream",
     "text": [
      "R^2: 0.69106857996\n"
     ]
    }
   ],
   "source": [
    "print('R^2:',linReg.score(x,y))"
   ]
  },
  {
   "cell_type": "markdown",
   "metadata": {},
   "source": [
    "Mean Squared Error: "
   ]
  },
  {
   "cell_type": "code",
   "execution_count": 13,
   "metadata": {
    "collapsed": false
   },
   "outputs": [
    {
     "data": {
      "text/plain": [
       "16387409336256126.0"
      ]
     },
     "execution_count": 13,
     "metadata": {},
     "output_type": "execute_result"
    }
   ],
   "source": [
    "mean_squared_error(ytest,ypred)"
   ]
  },
  {
   "cell_type": "markdown",
   "metadata": {},
   "source": [
    "Importing required modules for generating plots:"
   ]
  },
  {
   "cell_type": "code",
   "execution_count": 14,
   "metadata": {
    "collapsed": true
   },
   "outputs": [],
   "source": [
    "import plotly.plotly as py\n",
    "import plotly.graph_objs as go\n",
    "\n",
    "import numpy as np\n"
   ]
  },
  {
   "cell_type": "code",
   "execution_count": 16,
   "metadata": {
    "collapsed": false
   },
   "outputs": [
    {
     "ename": "IndexError",
     "evalue": "invalid index to scalar variable.",
     "output_type": "error",
     "traceback": [
      "\u001b[0;31m---------------------------------------------------------------------------\u001b[0m",
      "\u001b[0;31mIndexError\u001b[0m                                Traceback (most recent call last)",
      "\u001b[0;32m<ipython-input-16-1e446d66e9b7>\u001b[0m in \u001b[0;36m<module>\u001b[0;34m()\u001b[0m\n\u001b[1;32m      8\u001b[0m     \u001b[0;32mreturn\u001b[0m \u001b[0mk\u001b[0m\u001b[0;34m\u001b[0m\u001b[0m\n\u001b[1;32m      9\u001b[0m \u001b[0;34m\u001b[0m\u001b[0m\n\u001b[0;32m---> 10\u001b[0;31m \u001b[0mdata_to_plotly\u001b[0m\u001b[0;34m(\u001b[0m\u001b[0my\u001b[0m\u001b[0;34m)\u001b[0m\u001b[0;34m\u001b[0m\u001b[0m\n\u001b[0m",
      "\u001b[0;32m<ipython-input-16-1e446d66e9b7>\u001b[0m in \u001b[0;36mdata_to_plotly\u001b[0;34m(x)\u001b[0m\n\u001b[1;32m      4\u001b[0m \u001b[0;34m\u001b[0m\u001b[0m\n\u001b[1;32m      5\u001b[0m     \u001b[0;32mfor\u001b[0m \u001b[0mi\u001b[0m \u001b[0;32min\u001b[0m \u001b[0mrange\u001b[0m\u001b[0;34m(\u001b[0m\u001b[0;36m0\u001b[0m\u001b[0;34m,\u001b[0m \u001b[0mlen\u001b[0m\u001b[0;34m(\u001b[0m\u001b[0mx\u001b[0m\u001b[0;34m)\u001b[0m\u001b[0;34m)\u001b[0m\u001b[0;34m:\u001b[0m\u001b[0;34m\u001b[0m\u001b[0m\n\u001b[0;32m----> 6\u001b[0;31m         \u001b[0mk\u001b[0m\u001b[0;34m.\u001b[0m\u001b[0mappend\u001b[0m\u001b[0;34m(\u001b[0m\u001b[0mx\u001b[0m\u001b[0;34m[\u001b[0m\u001b[0mi\u001b[0m\u001b[0;34m]\u001b[0m\u001b[0;34m[\u001b[0m\u001b[0;36m0\u001b[0m\u001b[0;34m]\u001b[0m\u001b[0;34m)\u001b[0m\u001b[0;34m\u001b[0m\u001b[0m\n\u001b[0m\u001b[1;32m      7\u001b[0m \u001b[0;34m\u001b[0m\u001b[0m\n\u001b[1;32m      8\u001b[0m     \u001b[0;32mreturn\u001b[0m \u001b[0mk\u001b[0m\u001b[0;34m\u001b[0m\u001b[0m\n",
      "\u001b[0;31mIndexError\u001b[0m: invalid index to scalar variable."
     ]
    }
   ],
   "source": [
    "\n",
    "def data_to_plotly(x):\n",
    "    k = []\n",
    "    \n",
    "    for i in range(0, len(x)):\n",
    "        k.append(x[i][0])\n",
    "        \n",
    "    return k\n",
    "\n",
    "data_to_plotly(y)"
   ]
  },
  {
   "cell_type": "code",
   "execution_count": null,
   "metadata": {
    "collapsed": false
   },
   "outputs": [],
   "source": [
    "p1 = go.Scatter(x=data_to_plotly(xtest), \n",
    "                y=ytest, \n",
    "                mode='markers',\n",
    "                marker=dict(color='black')\n",
    "               )\n",
    "\n",
    "p2 = go.Scatter(x=data_to_plotly(xtest), \n",
    "                y=linReg.predict(xtest),\n",
    "                mode='lines',\n",
    "                line=dict(color='blue', width=3)\n",
    "                )\n",
    "\n",
    "layout = go.Layout(xaxis=dict(ticks='', showticklabels=False,\n",
    "                              zeroline=False),\n",
    "                   yaxis=dict(ticks='', showticklabels=False,\n",
    "                              zeroline=False),\n",
    "                   showlegend=False, hovermode='closest')\n",
    "\n",
    "fig = go.Figure(data=[p1, p2], layout=layout)\n",
    "\n",
    "py.iplot(fig)"
   ]
  },
  {
   "cell_type": "code",
   "execution_count": null,
   "metadata": {
    "collapsed": true
   },
   "outputs": [],
   "source": []
  }
 ],
 "metadata": {
  "kernelspec": {
   "display_name": "Python 3",
   "language": "python",
   "name": "python3"
  },
  "language_info": {
   "codemirror_mode": {
    "name": "ipython",
    "version": 3
   },
   "file_extension": ".py",
   "mimetype": "text/x-python",
   "name": "python",
   "nbconvert_exporter": "python",
   "pygments_lexer": "ipython3",
   "version": "3.6.0"
  }
 },
 "nbformat": 4,
 "nbformat_minor": 2
}
